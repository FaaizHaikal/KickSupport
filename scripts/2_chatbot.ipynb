{
 "cells": [
  {
   "cell_type": "code",
   "execution_count": 1,
   "metadata": {},
   "outputs": [
    {
     "name": "stderr",
     "output_type": "stream",
     "text": [
      "2024-12-03 22:27:18.156175: I external/local_xla/xla/tsl/cuda/cudart_stub.cc:32] Could not find cuda drivers on your machine, GPU will not be used.\n",
      "2024-12-03 22:27:18.159195: I external/local_xla/xla/tsl/cuda/cudart_stub.cc:32] Could not find cuda drivers on your machine, GPU will not be used.\n",
      "2024-12-03 22:27:18.169647: E external/local_xla/xla/stream_executor/cuda/cuda_fft.cc:477] Unable to register cuFFT factory: Attempting to register factory for plugin cuFFT when one has already been registered\n",
      "WARNING: All log messages before absl::InitializeLog() is called are written to STDERR\n",
      "E0000 00:00:1733239638.187539   18938 cuda_dnn.cc:8310] Unable to register cuDNN factory: Attempting to register factory for plugin cuDNN when one has already been registered\n",
      "E0000 00:00:1733239638.192464   18938 cuda_blas.cc:1418] Unable to register cuBLAS factory: Attempting to register factory for plugin cuBLAS when one has already been registered\n",
      "2024-12-03 22:27:18.209677: I tensorflow/core/platform/cpu_feature_guard.cc:210] This TensorFlow binary is optimized to use available CPU instructions in performance-critical operations.\n",
      "To enable the following instructions: AVX2 FMA, in other operations, rebuild TensorFlow with the appropriate compiler flags.\n"
     ]
    }
   ],
   "source": [
    "import os\n",
    "import json\n",
    "import pickle\n",
    "import numpy as np\n",
    "import nltk\n",
    "from nltk.stem import WordNetLemmatizer\n",
    "\n",
    "from tensorflow.keras.models import load_model"
   ]
  },
  {
   "cell_type": "code",
   "execution_count": 10,
   "metadata": {},
   "outputs": [],
   "source": [
    "class KickBot:\n",
    "  def __init__(self):\n",
    "    work_dir = os.path.dirname(os.path.abspath('.'))\n",
    "    \n",
    "    self.lemmatizer = WordNetLemmatizer()\n",
    "    self.intents = json.loads(open(os.path.join(work_dir, 'data/intents.json')).read())\n",
    "    self.words = pickle.load(open(os.path.join(work_dir, 'model/words.pkl'), 'rb'))\n",
    "    self.classes = pickle.load(open(os.path.join(work_dir, 'model/classes.pkl'), 'rb'))\n",
    "    self.model = load_model(os.path.join(work_dir, 'model/chatbot.h5'))\n",
    "    \n",
    "    \n",
    "  def clean_up_sentence(self, sentence):\n",
    "    sentence_words = nltk.word_tokenize(sentence)\n",
    "    sentence_words = [self.lemmatizer.lemmatize(word.lower()) for word in sentence_words]\n",
    "    \n",
    "    return sentence_words\n",
    "\n",
    "  def bow(self, sentence, words, show_details=True):\n",
    "    sentence_words = self.clean_up_sentence(sentence)\n",
    "    bag = [0] * len(words)\n",
    "\n",
    "    for s in sentence_words:\n",
    "      for i, w in enumerate(words):\n",
    "        if w == s:\n",
    "          bag[i] = 1\n",
    "          if show_details:\n",
    "              print(f\"found in bag: {w}\")\n",
    "    \n",
    "    return np.array(bag)\n",
    "\n",
    "  def predict_class(self, sentence):\n",
    "    p = self.bow(sentence, self.words, show_details=False)\n",
    "    res = self.model.predict(np.array([p]))[0]\n",
    "    ERROR_THRESHOLD = 0.25\n",
    "    results = [[i, r] for i, r in enumerate(res) if r > ERROR_THRESHOLD]\n",
    "    results.sort(key=lambda x: x[1], reverse=True)\n",
    "    return_list = []\n",
    "\n",
    "    for r in results:\n",
    "      return_list.append({'intent': self.classes[r[0]], 'probability': str(r[1])})\n",
    "\n",
    "    return return_list\n",
    "  \n",
    "  def get_response(self, intents_list, intents_json):\n",
    "    tag = intents_list[0]['intent']\n",
    "    list_of_intents = intents_json['intents']\n",
    "    \n",
    "    for i in list_of_intents:\n",
    "      if i['tag'] == tag:\n",
    "        result = np.random.choice(i['responses'])\n",
    "        break\n",
    "\n",
    "    return result\n",
    "\n",
    "  def chatbot_response(self, msg):\n",
    "      ints = self.predict_class(msg)\n",
    "      res = self.get_response(ints, self.intents)\n",
    "      return res"
   ]
  },
  {
   "cell_type": "code",
   "execution_count": null,
   "metadata": {},
   "outputs": [
    {
     "name": "stderr",
     "output_type": "stream",
     "text": [
      "WARNING:absl:Compiled the loaded model, but the compiled metrics have yet to be built. `model.compile_metrics` will be empty until you train or evaluate the model.\n"
     ]
    },
    {
     "name": "stdout",
     "output_type": "stream",
     "text": [
      "\u001b[1m1/1\u001b[0m \u001b[32m━━━━━━━━━━━━━━━━━━━━\u001b[0m\u001b[37m\u001b[0m \u001b[1m0s\u001b[0m 45ms/step\n",
      "Bot: I'm not sure I follow you.\n",
      "\u001b[1m1/1\u001b[0m \u001b[32m━━━━━━━━━━━━━━━━━━━━\u001b[0m\u001b[37m\u001b[0m \u001b[1m0s\u001b[0m 24ms/step\n",
      "Bot: I am here as KickVerse assistant!\n",
      "\u001b[1m1/1\u001b[0m \u001b[32m━━━━━━━━━━━━━━━━━━━━\u001b[0m\u001b[37m\u001b[0m \u001b[1m0s\u001b[0m 25ms/step\n",
      "Bot: To sell on KickVerse, first create an account. Then, head to the seller dashboard, list your shoes, and wait for buyers to contact you!\n",
      "\u001b[1m1/1\u001b[0m \u001b[32m━━━━━━━━━━━━━━━━━━━━\u001b[0m\u001b[37m\u001b[0m \u001b[1m0s\u001b[0m 25ms/step\n",
      "Bot: KickVerse is an online platform, so you can access it *here*!\n",
      "\u001b[1m1/1\u001b[0m \u001b[32m━━━━━━━━━━━━━━━━━━━━\u001b[0m\u001b[37m\u001b[0m \u001b[1m0s\u001b[0m 26ms/step\n",
      "Bot: Like any other e-commerce platform, you can buy and sell products on KickVerse, but we specialize in shoes! You can also chat with sellers and leave reviews! What's more, we have an image recognition feature that allows you to search for shoes using images! Give it a try!\n",
      "\u001b[1m1/1\u001b[0m \u001b[32m━━━━━━━━━━━━━━━━━━━━\u001b[0m\u001b[37m\u001b[0m \u001b[1m0s\u001b[0m 26ms/step\n",
      "Bot: I'm not sure I follow you.\n",
      "\u001b[1m1/1\u001b[0m \u001b[32m━━━━━━━━━━━━━━━━━━━━\u001b[0m\u001b[37m\u001b[0m \u001b[1m0s\u001b[0m 23ms/step\n",
      "Bot: My pleasure!\n",
      "\u001b[1m1/1\u001b[0m \u001b[32m━━━━━━━━━━━━━━━━━━━━\u001b[0m\u001b[37m\u001b[0m \u001b[1m0s\u001b[0m 24ms/step\n",
      "Bot: Like any other e-commerce platform, you can buy and sell products on KickVerse, but we specialize in shoes! You can also chat with sellers and leave reviews! What's more, we have an image recognition feature that allows you to search for shoes using images! Give it a try!\n",
      "\u001b[1m1/1\u001b[0m \u001b[32m━━━━━━━━━━━━━━━━━━━━\u001b[0m\u001b[37m\u001b[0m \u001b[1m0s\u001b[0m 24ms/step\n",
      "Bot: Could you please rephrase that?\n",
      "\u001b[1m1/1\u001b[0m \u001b[32m━━━━━━━━━━━━━━━━━━━━\u001b[0m\u001b[37m\u001b[0m \u001b[1m0s\u001b[0m 22ms/step\n",
      "Bot: Could you please rephrase that?\n",
      "\u001b[1m1/1\u001b[0m \u001b[32m━━━━━━━━━━━━━━━━━━━━\u001b[0m\u001b[37m\u001b[0m \u001b[1m0s\u001b[0m 23ms/step\n",
      "Bot: I'm sorry, I didn't understand that.\n",
      "\u001b[1m1/1\u001b[0m \u001b[32m━━━━━━━━━━━━━━━━━━━━\u001b[0m\u001b[37m\u001b[0m \u001b[1m0s\u001b[0m 22ms/step\n",
      "Bot: I'm still learning, can you provide more context?\n",
      "\u001b[1m1/1\u001b[0m \u001b[32m━━━━━━━━━━━━━━━━━━━━\u001b[0m\u001b[37m\u001b[0m \u001b[1m0s\u001b[0m 25ms/step\n",
      "Bot: I'm sorry, I didn't understand that.\n",
      "\u001b[1m1/1\u001b[0m \u001b[32m━━━━━━━━━━━━━━━━━━━━\u001b[0m\u001b[37m\u001b[0m \u001b[1m0s\u001b[0m 21ms/step\n",
      "Bot: I'm still learning, can you provide more context?\n",
      "\u001b[1m1/1\u001b[0m \u001b[32m━━━━━━━━━━━━━━━━━━━━\u001b[0m\u001b[37m\u001b[0m \u001b[1m0s\u001b[0m 21ms/step\n",
      "Bot: I'm still learning, can you provide more context?\n"
     ]
    }
   ],
   "source": [
    "bot = KickBot()\n",
    "while True:\n",
    "  msg = input('You: ')\n",
    "  print('Bot:', bot.chatbot_response(msg))"
   ]
  }
 ],
 "metadata": {
  "kernelspec": {
   "display_name": "Python 3",
   "language": "python",
   "name": "python3"
  },
  "language_info": {
   "codemirror_mode": {
    "name": "ipython",
    "version": 3
   },
   "file_extension": ".py",
   "mimetype": "text/x-python",
   "name": "python",
   "nbconvert_exporter": "python",
   "pygments_lexer": "ipython3",
   "version": "3.10.12"
  }
 },
 "nbformat": 4,
 "nbformat_minor": 2
}
